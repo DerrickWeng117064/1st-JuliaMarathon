{
 "cells": [
  {
   "cell_type": "markdown",
   "metadata": {},
   "source": [
    "# Julia 機器學習：DecisionTree 決策樹\n",
    "\n",
    "## 作業 030：乳癌預測資料集\n",
    "\n",
    "請使用隨機森林模型建立一個分類模型，來預測乳癌資料集中，為良性或是惡性的腫瘤。"
   ]
  },
  {
   "cell_type": "code",
   "execution_count": 93,
   "metadata": {},
   "outputs": [],
   "source": [
    "using DecisionTree, RDatasets, DataFrames, MLDataUtils, Statistics"
   ]
  },
  {
   "cell_type": "markdown",
   "metadata": {},
   "source": [
    "## 讀取資料"
   ]
  },
  {
   "cell_type": "code",
   "execution_count": 94,
   "metadata": {},
   "outputs": [
    {
     "data": {
      "text/html": [
       "<table class=\"data-frame\"><thead><tr><th></th><th>ID</th><th>V1</th><th>V2</th><th>V3</th><th>V4</th><th>V5</th><th>V6</th><th>V7</th><th>V8</th><th>V9</th><th>Class</th></tr><tr><th></th><th>String</th><th>Int32</th><th>Int32</th><th>Int32</th><th>Int32</th><th>Int32</th><th>Int32⍰</th><th>Int32</th><th>Int32</th><th>Int32</th><th>Categorical…</th></tr></thead><tbody><p>699 rows × 11 columns</p><tr><th>1</th><td>1000025</td><td>5</td><td>1</td><td>1</td><td>1</td><td>2</td><td>1</td><td>3</td><td>1</td><td>1</td><td>benign</td></tr><tr><th>2</th><td>1002945</td><td>5</td><td>4</td><td>4</td><td>5</td><td>7</td><td>10</td><td>3</td><td>2</td><td>1</td><td>benign</td></tr><tr><th>3</th><td>1015425</td><td>3</td><td>1</td><td>1</td><td>1</td><td>2</td><td>2</td><td>3</td><td>1</td><td>1</td><td>benign</td></tr><tr><th>4</th><td>1016277</td><td>6</td><td>8</td><td>8</td><td>1</td><td>3</td><td>4</td><td>3</td><td>7</td><td>1</td><td>benign</td></tr><tr><th>5</th><td>1017023</td><td>4</td><td>1</td><td>1</td><td>3</td><td>2</td><td>1</td><td>3</td><td>1</td><td>1</td><td>benign</td></tr><tr><th>6</th><td>1017122</td><td>8</td><td>10</td><td>10</td><td>8</td><td>7</td><td>10</td><td>9</td><td>7</td><td>1</td><td>malignant</td></tr><tr><th>7</th><td>1018099</td><td>1</td><td>1</td><td>1</td><td>1</td><td>2</td><td>10</td><td>3</td><td>1</td><td>1</td><td>benign</td></tr><tr><th>8</th><td>1018561</td><td>2</td><td>1</td><td>2</td><td>1</td><td>2</td><td>1</td><td>3</td><td>1</td><td>1</td><td>benign</td></tr><tr><th>9</th><td>1033078</td><td>2</td><td>1</td><td>1</td><td>1</td><td>2</td><td>1</td><td>1</td><td>1</td><td>5</td><td>benign</td></tr><tr><th>10</th><td>1033078</td><td>4</td><td>2</td><td>1</td><td>1</td><td>2</td><td>1</td><td>2</td><td>1</td><td>1</td><td>benign</td></tr><tr><th>11</th><td>1035283</td><td>1</td><td>1</td><td>1</td><td>1</td><td>1</td><td>1</td><td>3</td><td>1</td><td>1</td><td>benign</td></tr><tr><th>12</th><td>1036172</td><td>2</td><td>1</td><td>1</td><td>1</td><td>2</td><td>1</td><td>2</td><td>1</td><td>1</td><td>benign</td></tr><tr><th>13</th><td>1041801</td><td>5</td><td>3</td><td>3</td><td>3</td><td>2</td><td>3</td><td>4</td><td>4</td><td>1</td><td>malignant</td></tr><tr><th>14</th><td>1043999</td><td>1</td><td>1</td><td>1</td><td>1</td><td>2</td><td>3</td><td>3</td><td>1</td><td>1</td><td>benign</td></tr><tr><th>15</th><td>1044572</td><td>8</td><td>7</td><td>5</td><td>10</td><td>7</td><td>9</td><td>5</td><td>5</td><td>4</td><td>malignant</td></tr><tr><th>16</th><td>1047630</td><td>7</td><td>4</td><td>6</td><td>4</td><td>6</td><td>1</td><td>4</td><td>3</td><td>1</td><td>malignant</td></tr><tr><th>17</th><td>1048672</td><td>4</td><td>1</td><td>1</td><td>1</td><td>2</td><td>1</td><td>2</td><td>1</td><td>1</td><td>benign</td></tr><tr><th>18</th><td>1049815</td><td>4</td><td>1</td><td>1</td><td>1</td><td>2</td><td>1</td><td>3</td><td>1</td><td>1</td><td>benign</td></tr><tr><th>19</th><td>1050670</td><td>10</td><td>7</td><td>7</td><td>6</td><td>4</td><td>10</td><td>4</td><td>1</td><td>2</td><td>malignant</td></tr><tr><th>20</th><td>1050718</td><td>6</td><td>1</td><td>1</td><td>1</td><td>2</td><td>1</td><td>3</td><td>1</td><td>1</td><td>benign</td></tr><tr><th>21</th><td>1054590</td><td>7</td><td>3</td><td>2</td><td>10</td><td>5</td><td>10</td><td>5</td><td>4</td><td>4</td><td>malignant</td></tr><tr><th>22</th><td>1054593</td><td>10</td><td>5</td><td>5</td><td>3</td><td>6</td><td>7</td><td>7</td><td>10</td><td>1</td><td>malignant</td></tr><tr><th>23</th><td>1056784</td><td>3</td><td>1</td><td>1</td><td>1</td><td>2</td><td>1</td><td>2</td><td>1</td><td>1</td><td>benign</td></tr><tr><th>24</th><td>1057013</td><td>8</td><td>4</td><td>5</td><td>1</td><td>2</td><td>missing</td><td>7</td><td>3</td><td>1</td><td>malignant</td></tr><tr><th>25</th><td>1059552</td><td>1</td><td>1</td><td>1</td><td>1</td><td>2</td><td>1</td><td>3</td><td>1</td><td>1</td><td>benign</td></tr><tr><th>26</th><td>1065726</td><td>5</td><td>2</td><td>3</td><td>4</td><td>2</td><td>7</td><td>3</td><td>6</td><td>1</td><td>malignant</td></tr><tr><th>27</th><td>1066373</td><td>3</td><td>2</td><td>1</td><td>1</td><td>1</td><td>1</td><td>2</td><td>1</td><td>1</td><td>benign</td></tr><tr><th>28</th><td>1066979</td><td>5</td><td>1</td><td>1</td><td>1</td><td>2</td><td>1</td><td>2</td><td>1</td><td>1</td><td>benign</td></tr><tr><th>29</th><td>1067444</td><td>2</td><td>1</td><td>1</td><td>1</td><td>2</td><td>1</td><td>2</td><td>1</td><td>1</td><td>benign</td></tr><tr><th>30</th><td>1070935</td><td>1</td><td>1</td><td>3</td><td>1</td><td>2</td><td>1</td><td>1</td><td>1</td><td>1</td><td>benign</td></tr><tr><th>&vellip;</th><td>&vellip;</td><td>&vellip;</td><td>&vellip;</td><td>&vellip;</td><td>&vellip;</td><td>&vellip;</td><td>&vellip;</td><td>&vellip;</td><td>&vellip;</td><td>&vellip;</td><td>&vellip;</td></tr></tbody></table>"
      ],
      "text/latex": [
       "\\begin{tabular}{r|ccccccccccc}\n",
       "\t& ID & V1 & V2 & V3 & V4 & V5 & V6 & V7 & V8 & V9 & Class\\\\\n",
       "\t\\hline\n",
       "\t& String & Int32 & Int32 & Int32 & Int32 & Int32 & Int32⍰ & Int32 & Int32 & Int32 & Categorical…\\\\\n",
       "\t\\hline\n",
       "\t1 & 1000025 & 5 & 1 & 1 & 1 & 2 & 1 & 3 & 1 & 1 & benign \\\\\n",
       "\t2 & 1002945 & 5 & 4 & 4 & 5 & 7 & 10 & 3 & 2 & 1 & benign \\\\\n",
       "\t3 & 1015425 & 3 & 1 & 1 & 1 & 2 & 2 & 3 & 1 & 1 & benign \\\\\n",
       "\t4 & 1016277 & 6 & 8 & 8 & 1 & 3 & 4 & 3 & 7 & 1 & benign \\\\\n",
       "\t5 & 1017023 & 4 & 1 & 1 & 3 & 2 & 1 & 3 & 1 & 1 & benign \\\\\n",
       "\t6 & 1017122 & 8 & 10 & 10 & 8 & 7 & 10 & 9 & 7 & 1 & malignant \\\\\n",
       "\t7 & 1018099 & 1 & 1 & 1 & 1 & 2 & 10 & 3 & 1 & 1 & benign \\\\\n",
       "\t8 & 1018561 & 2 & 1 & 2 & 1 & 2 & 1 & 3 & 1 & 1 & benign \\\\\n",
       "\t9 & 1033078 & 2 & 1 & 1 & 1 & 2 & 1 & 1 & 1 & 5 & benign \\\\\n",
       "\t10 & 1033078 & 4 & 2 & 1 & 1 & 2 & 1 & 2 & 1 & 1 & benign \\\\\n",
       "\t11 & 1035283 & 1 & 1 & 1 & 1 & 1 & 1 & 3 & 1 & 1 & benign \\\\\n",
       "\t12 & 1036172 & 2 & 1 & 1 & 1 & 2 & 1 & 2 & 1 & 1 & benign \\\\\n",
       "\t13 & 1041801 & 5 & 3 & 3 & 3 & 2 & 3 & 4 & 4 & 1 & malignant \\\\\n",
       "\t14 & 1043999 & 1 & 1 & 1 & 1 & 2 & 3 & 3 & 1 & 1 & benign \\\\\n",
       "\t15 & 1044572 & 8 & 7 & 5 & 10 & 7 & 9 & 5 & 5 & 4 & malignant \\\\\n",
       "\t16 & 1047630 & 7 & 4 & 6 & 4 & 6 & 1 & 4 & 3 & 1 & malignant \\\\\n",
       "\t17 & 1048672 & 4 & 1 & 1 & 1 & 2 & 1 & 2 & 1 & 1 & benign \\\\\n",
       "\t18 & 1049815 & 4 & 1 & 1 & 1 & 2 & 1 & 3 & 1 & 1 & benign \\\\\n",
       "\t19 & 1050670 & 10 & 7 & 7 & 6 & 4 & 10 & 4 & 1 & 2 & malignant \\\\\n",
       "\t20 & 1050718 & 6 & 1 & 1 & 1 & 2 & 1 & 3 & 1 & 1 & benign \\\\\n",
       "\t21 & 1054590 & 7 & 3 & 2 & 10 & 5 & 10 & 5 & 4 & 4 & malignant \\\\\n",
       "\t22 & 1054593 & 10 & 5 & 5 & 3 & 6 & 7 & 7 & 10 & 1 & malignant \\\\\n",
       "\t23 & 1056784 & 3 & 1 & 1 & 1 & 2 & 1 & 2 & 1 & 1 & benign \\\\\n",
       "\t24 & 1057013 & 8 & 4 & 5 & 1 & 2 &  & 7 & 3 & 1 & malignant \\\\\n",
       "\t25 & 1059552 & 1 & 1 & 1 & 1 & 2 & 1 & 3 & 1 & 1 & benign \\\\\n",
       "\t26 & 1065726 & 5 & 2 & 3 & 4 & 2 & 7 & 3 & 6 & 1 & malignant \\\\\n",
       "\t27 & 1066373 & 3 & 2 & 1 & 1 & 1 & 1 & 2 & 1 & 1 & benign \\\\\n",
       "\t28 & 1066979 & 5 & 1 & 1 & 1 & 2 & 1 & 2 & 1 & 1 & benign \\\\\n",
       "\t29 & 1067444 & 2 & 1 & 1 & 1 & 2 & 1 & 2 & 1 & 1 & benign \\\\\n",
       "\t30 & 1070935 & 1 & 1 & 3 & 1 & 2 & 1 & 1 & 1 & 1 & benign \\\\\n",
       "\t$\\dots$ & $\\dots$ & $\\dots$ & $\\dots$ & $\\dots$ & $\\dots$ & $\\dots$ & $\\dots$ & $\\dots$ & $\\dots$ & $\\dots$ & $\\dots$ \\\\\n",
       "\\end{tabular}\n"
      ],
      "text/plain": [
       "699×11 DataFrame. Omitted printing of 3 columns\n",
       "│ Row │ ID      │ V1    │ V2    │ V3    │ V4    │ V5    │ V6     │ V7    │\n",
       "│     │ \u001b[90mString\u001b[39m  │ \u001b[90mInt32\u001b[39m │ \u001b[90mInt32\u001b[39m │ \u001b[90mInt32\u001b[39m │ \u001b[90mInt32\u001b[39m │ \u001b[90mInt32\u001b[39m │ \u001b[90mInt32⍰\u001b[39m │ \u001b[90mInt32\u001b[39m │\n",
       "├─────┼─────────┼───────┼───────┼───────┼───────┼───────┼────────┼───────┤\n",
       "│ 1   │ 1000025 │ 5     │ 1     │ 1     │ 1     │ 2     │ 1      │ 3     │\n",
       "│ 2   │ 1002945 │ 5     │ 4     │ 4     │ 5     │ 7     │ 10     │ 3     │\n",
       "│ 3   │ 1015425 │ 3     │ 1     │ 1     │ 1     │ 2     │ 2      │ 3     │\n",
       "│ 4   │ 1016277 │ 6     │ 8     │ 8     │ 1     │ 3     │ 4      │ 3     │\n",
       "│ 5   │ 1017023 │ 4     │ 1     │ 1     │ 3     │ 2     │ 1      │ 3     │\n",
       "│ 6   │ 1017122 │ 8     │ 10    │ 10    │ 8     │ 7     │ 10     │ 9     │\n",
       "│ 7   │ 1018099 │ 1     │ 1     │ 1     │ 1     │ 2     │ 10     │ 3     │\n",
       "│ 8   │ 1018561 │ 2     │ 1     │ 2     │ 1     │ 2     │ 1      │ 3     │\n",
       "│ 9   │ 1033078 │ 2     │ 1     │ 1     │ 1     │ 2     │ 1      │ 1     │\n",
       "│ 10  │ 1033078 │ 4     │ 2     │ 1     │ 1     │ 2     │ 1      │ 2     │\n",
       "⋮\n",
       "│ 689 │ 603148  │ 4     │ 1     │ 1     │ 1     │ 2     │ 1      │ 1     │\n",
       "│ 690 │ 654546  │ 1     │ 1     │ 1     │ 1     │ 2     │ 1      │ 1     │\n",
       "│ 691 │ 654546  │ 1     │ 1     │ 1     │ 3     │ 2     │ 1      │ 1     │\n",
       "│ 692 │ 695091  │ 5     │ 10    │ 10    │ 5     │ 4     │ 5      │ 4     │\n",
       "│ 693 │ 714039  │ 3     │ 1     │ 1     │ 1     │ 2     │ 1      │ 1     │\n",
       "│ 694 │ 763235  │ 3     │ 1     │ 1     │ 1     │ 2     │ 1      │ 2     │\n",
       "│ 695 │ 776715  │ 3     │ 1     │ 1     │ 1     │ 3     │ 2      │ 1     │\n",
       "│ 696 │ 841769  │ 2     │ 1     │ 1     │ 1     │ 2     │ 1      │ 1     │\n",
       "│ 697 │ 888820  │ 5     │ 10    │ 10    │ 3     │ 7     │ 3      │ 8     │\n",
       "│ 698 │ 897471  │ 4     │ 8     │ 6     │ 4     │ 3     │ 4      │ 10    │\n",
       "│ 699 │ 897471  │ 4     │ 8     │ 8     │ 5     │ 4     │ 5      │ 10    │"
      ]
     },
     "execution_count": 94,
     "metadata": {},
     "output_type": "execute_result"
    }
   ],
   "source": [
    "biopsy = dataset(\"MASS\", \"biopsy\")"
   ]
  },
  {
   "cell_type": "code",
   "execution_count": 95,
   "metadata": {},
   "outputs": [
    {
     "data": {
      "text/html": [
       "<table class=\"data-frame\"><thead><tr><th></th><th>ID</th><th>V1</th><th>V2</th><th>V3</th><th>V4</th><th>V5</th><th>V6</th><th>V7</th><th>V8</th><th>V9</th><th>Class</th></tr><tr><th></th><th>String</th><th>Int32</th><th>Int32</th><th>Int32</th><th>Int32</th><th>Int32</th><th>Int32⍰</th><th>Int32</th><th>Int32</th><th>Int32</th><th>Categorical…</th></tr></thead><tbody><p>140 rows × 11 columns</p><tr><th>1</th><td>640712</td><td>1</td><td>1</td><td>1</td><td>1</td><td>2</td><td>1</td><td>2</td><td>1</td><td>1</td><td>benign</td></tr><tr><th>2</th><td>1297522</td><td>2</td><td>1</td><td>1</td><td>1</td><td>2</td><td>1</td><td>1</td><td>1</td><td>1</td><td>benign</td></tr><tr><th>3</th><td>1105524</td><td>4</td><td>1</td><td>1</td><td>1</td><td>2</td><td>1</td><td>1</td><td>1</td><td>1</td><td>benign</td></tr><tr><th>4</th><td>529329</td><td>10</td><td>10</td><td>10</td><td>10</td><td>10</td><td>10</td><td>4</td><td>10</td><td>10</td><td>malignant</td></tr><tr><th>5</th><td>1186936</td><td>2</td><td>1</td><td>3</td><td>2</td><td>2</td><td>1</td><td>2</td><td>1</td><td>1</td><td>benign</td></tr><tr><th>6</th><td>1257815</td><td>5</td><td>1</td><td>3</td><td>1</td><td>2</td><td>1</td><td>2</td><td>1</td><td>1</td><td>benign</td></tr><tr><th>7</th><td>1198128</td><td>10</td><td>8</td><td>10</td><td>10</td><td>6</td><td>1</td><td>3</td><td>1</td><td>10</td><td>malignant</td></tr><tr><th>8</th><td>1290203</td><td>3</td><td>1</td><td>1</td><td>1</td><td>2</td><td>1</td><td>2</td><td>1</td><td>1</td><td>benign</td></tr><tr><th>9</th><td>1368273</td><td>1</td><td>1</td><td>1</td><td>1</td><td>2</td><td>1</td><td>1</td><td>1</td><td>1</td><td>benign</td></tr><tr><th>10</th><td>1172152</td><td>10</td><td>3</td><td>3</td><td>10</td><td>2</td><td>10</td><td>7</td><td>3</td><td>3</td><td>malignant</td></tr><tr><th>11</th><td>543558</td><td>6</td><td>1</td><td>3</td><td>1</td><td>4</td><td>5</td><td>5</td><td>10</td><td>1</td><td>malignant</td></tr><tr><th>12</th><td>1355260</td><td>1</td><td>1</td><td>1</td><td>1</td><td>2</td><td>1</td><td>2</td><td>1</td><td>1</td><td>benign</td></tr><tr><th>13</th><td>1197979</td><td>4</td><td>1</td><td>1</td><td>1</td><td>2</td><td>2</td><td>3</td><td>2</td><td>1</td><td>benign</td></tr><tr><th>14</th><td>1201834</td><td>2</td><td>1</td><td>1</td><td>1</td><td>2</td><td>1</td><td>3</td><td>1</td><td>1</td><td>benign</td></tr><tr><th>15</th><td>1121919</td><td>5</td><td>1</td><td>3</td><td>1</td><td>2</td><td>1</td><td>2</td><td>1</td><td>1</td><td>benign</td></tr><tr><th>16</th><td>1217717</td><td>5</td><td>1</td><td>1</td><td>6</td><td>3</td><td>1</td><td>1</td><td>1</td><td>1</td><td>benign</td></tr><tr><th>17</th><td>1147699</td><td>3</td><td>5</td><td>7</td><td>8</td><td>8</td><td>9</td><td>7</td><td>10</td><td>7</td><td>malignant</td></tr><tr><th>18</th><td>1235807</td><td>5</td><td>1</td><td>1</td><td>1</td><td>2</td><td>1</td><td>2</td><td>1</td><td>1</td><td>benign</td></tr><tr><th>19</th><td>760239</td><td>10</td><td>4</td><td>6</td><td>4</td><td>5</td><td>10</td><td>7</td><td>1</td><td>1</td><td>malignant</td></tr><tr><th>20</th><td>274137</td><td>8</td><td>8</td><td>9</td><td>4</td><td>5</td><td>10</td><td>7</td><td>8</td><td>1</td><td>malignant</td></tr><tr><th>21</th><td>1223967</td><td>6</td><td>1</td><td>3</td><td>1</td><td>2</td><td>1</td><td>3</td><td>1</td><td>1</td><td>benign</td></tr><tr><th>22</th><td>1100524</td><td>6</td><td>10</td><td>10</td><td>2</td><td>8</td><td>10</td><td>7</td><td>3</td><td>3</td><td>malignant</td></tr><tr><th>23</th><td>1156948</td><td>3</td><td>1</td><td>1</td><td>2</td><td>2</td><td>1</td><td>1</td><td>1</td><td>1</td><td>benign</td></tr><tr><th>24</th><td>1066979</td><td>5</td><td>1</td><td>1</td><td>1</td><td>2</td><td>1</td><td>2</td><td>1</td><td>1</td><td>benign</td></tr><tr><th>25</th><td>640744</td><td>10</td><td>10</td><td>10</td><td>7</td><td>9</td><td>10</td><td>7</td><td>10</td><td>10</td><td>malignant</td></tr><tr><th>26</th><td>557583</td><td>5</td><td>10</td><td>10</td><td>10</td><td>10</td><td>10</td><td>10</td><td>1</td><td>1</td><td>malignant</td></tr><tr><th>27</th><td>1165297</td><td>2</td><td>1</td><td>1</td><td>2</td><td>2</td><td>1</td><td>1</td><td>1</td><td>1</td><td>benign</td></tr><tr><th>28</th><td>1016634</td><td>2</td><td>3</td><td>1</td><td>1</td><td>2</td><td>1</td><td>2</td><td>1</td><td>1</td><td>benign</td></tr><tr><th>29</th><td>13454352</td><td>1</td><td>1</td><td>3</td><td>1</td><td>2</td><td>1</td><td>2</td><td>1</td><td>1</td><td>benign</td></tr><tr><th>30</th><td>1041043</td><td>4</td><td>1</td><td>3</td><td>1</td><td>2</td><td>1</td><td>2</td><td>1</td><td>1</td><td>benign</td></tr><tr><th>&vellip;</th><td>&vellip;</td><td>&vellip;</td><td>&vellip;</td><td>&vellip;</td><td>&vellip;</td><td>&vellip;</td><td>&vellip;</td><td>&vellip;</td><td>&vellip;</td><td>&vellip;</td><td>&vellip;</td></tr></tbody></table>"
      ],
      "text/latex": [
       "\\begin{tabular}{r|ccccccccccc}\n",
       "\t& ID & V1 & V2 & V3 & V4 & V5 & V6 & V7 & V8 & V9 & Class\\\\\n",
       "\t\\hline\n",
       "\t& String & Int32 & Int32 & Int32 & Int32 & Int32 & Int32⍰ & Int32 & Int32 & Int32 & Categorical…\\\\\n",
       "\t\\hline\n",
       "\t1 & 640712 & 1 & 1 & 1 & 1 & 2 & 1 & 2 & 1 & 1 & benign \\\\\n",
       "\t2 & 1297522 & 2 & 1 & 1 & 1 & 2 & 1 & 1 & 1 & 1 & benign \\\\\n",
       "\t3 & 1105524 & 4 & 1 & 1 & 1 & 2 & 1 & 1 & 1 & 1 & benign \\\\\n",
       "\t4 & 529329 & 10 & 10 & 10 & 10 & 10 & 10 & 4 & 10 & 10 & malignant \\\\\n",
       "\t5 & 1186936 & 2 & 1 & 3 & 2 & 2 & 1 & 2 & 1 & 1 & benign \\\\\n",
       "\t6 & 1257815 & 5 & 1 & 3 & 1 & 2 & 1 & 2 & 1 & 1 & benign \\\\\n",
       "\t7 & 1198128 & 10 & 8 & 10 & 10 & 6 & 1 & 3 & 1 & 10 & malignant \\\\\n",
       "\t8 & 1290203 & 3 & 1 & 1 & 1 & 2 & 1 & 2 & 1 & 1 & benign \\\\\n",
       "\t9 & 1368273 & 1 & 1 & 1 & 1 & 2 & 1 & 1 & 1 & 1 & benign \\\\\n",
       "\t10 & 1172152 & 10 & 3 & 3 & 10 & 2 & 10 & 7 & 3 & 3 & malignant \\\\\n",
       "\t11 & 543558 & 6 & 1 & 3 & 1 & 4 & 5 & 5 & 10 & 1 & malignant \\\\\n",
       "\t12 & 1355260 & 1 & 1 & 1 & 1 & 2 & 1 & 2 & 1 & 1 & benign \\\\\n",
       "\t13 & 1197979 & 4 & 1 & 1 & 1 & 2 & 2 & 3 & 2 & 1 & benign \\\\\n",
       "\t14 & 1201834 & 2 & 1 & 1 & 1 & 2 & 1 & 3 & 1 & 1 & benign \\\\\n",
       "\t15 & 1121919 & 5 & 1 & 3 & 1 & 2 & 1 & 2 & 1 & 1 & benign \\\\\n",
       "\t16 & 1217717 & 5 & 1 & 1 & 6 & 3 & 1 & 1 & 1 & 1 & benign \\\\\n",
       "\t17 & 1147699 & 3 & 5 & 7 & 8 & 8 & 9 & 7 & 10 & 7 & malignant \\\\\n",
       "\t18 & 1235807 & 5 & 1 & 1 & 1 & 2 & 1 & 2 & 1 & 1 & benign \\\\\n",
       "\t19 & 760239 & 10 & 4 & 6 & 4 & 5 & 10 & 7 & 1 & 1 & malignant \\\\\n",
       "\t20 & 274137 & 8 & 8 & 9 & 4 & 5 & 10 & 7 & 8 & 1 & malignant \\\\\n",
       "\t21 & 1223967 & 6 & 1 & 3 & 1 & 2 & 1 & 3 & 1 & 1 & benign \\\\\n",
       "\t22 & 1100524 & 6 & 10 & 10 & 2 & 8 & 10 & 7 & 3 & 3 & malignant \\\\\n",
       "\t23 & 1156948 & 3 & 1 & 1 & 2 & 2 & 1 & 1 & 1 & 1 & benign \\\\\n",
       "\t24 & 1066979 & 5 & 1 & 1 & 1 & 2 & 1 & 2 & 1 & 1 & benign \\\\\n",
       "\t25 & 640744 & 10 & 10 & 10 & 7 & 9 & 10 & 7 & 10 & 10 & malignant \\\\\n",
       "\t26 & 557583 & 5 & 10 & 10 & 10 & 10 & 10 & 10 & 1 & 1 & malignant \\\\\n",
       "\t27 & 1165297 & 2 & 1 & 1 & 2 & 2 & 1 & 1 & 1 & 1 & benign \\\\\n",
       "\t28 & 1016634 & 2 & 3 & 1 & 1 & 2 & 1 & 2 & 1 & 1 & benign \\\\\n",
       "\t29 & 13454352 & 1 & 1 & 3 & 1 & 2 & 1 & 2 & 1 & 1 & benign \\\\\n",
       "\t30 & 1041043 & 4 & 1 & 3 & 1 & 2 & 1 & 2 & 1 & 1 & benign \\\\\n",
       "\t$\\dots$ & $\\dots$ & $\\dots$ & $\\dots$ & $\\dots$ & $\\dots$ & $\\dots$ & $\\dots$ & $\\dots$ & $\\dots$ & $\\dots$ & $\\dots$ \\\\\n",
       "\\end{tabular}\n"
      ],
      "text/plain": [
       "140×11 DataFrame. Omitted printing of 3 columns\n",
       "│ Row │ ID      │ V1    │ V2    │ V3    │ V4    │ V5    │ V6     │ V7    │\n",
       "│     │ \u001b[90mString\u001b[39m  │ \u001b[90mInt32\u001b[39m │ \u001b[90mInt32\u001b[39m │ \u001b[90mInt32\u001b[39m │ \u001b[90mInt32\u001b[39m │ \u001b[90mInt32\u001b[39m │ \u001b[90mInt32⍰\u001b[39m │ \u001b[90mInt32\u001b[39m │\n",
       "├─────┼─────────┼───────┼───────┼───────┼───────┼───────┼────────┼───────┤\n",
       "│ 1   │ 640712  │ 1     │ 1     │ 1     │ 1     │ 2     │ 1      │ 2     │\n",
       "│ 2   │ 1297522 │ 2     │ 1     │ 1     │ 1     │ 2     │ 1      │ 1     │\n",
       "│ 3   │ 1105524 │ 4     │ 1     │ 1     │ 1     │ 2     │ 1      │ 1     │\n",
       "│ 4   │ 529329  │ 10    │ 10    │ 10    │ 10    │ 10    │ 10     │ 4     │\n",
       "│ 5   │ 1186936 │ 2     │ 1     │ 3     │ 2     │ 2     │ 1      │ 2     │\n",
       "│ 6   │ 1257815 │ 5     │ 1     │ 3     │ 1     │ 2     │ 1      │ 2     │\n",
       "│ 7   │ 1198128 │ 10    │ 8     │ 10    │ 10    │ 6     │ 1      │ 3     │\n",
       "│ 8   │ 1290203 │ 3     │ 1     │ 1     │ 1     │ 2     │ 1      │ 2     │\n",
       "│ 9   │ 1368273 │ 1     │ 1     │ 1     │ 1     │ 2     │ 1      │ 1     │\n",
       "│ 10  │ 1172152 │ 10    │ 3     │ 3     │ 10    │ 2     │ 10     │ 7     │\n",
       "⋮\n",
       "│ 130 │ 1240337 │ 5     │ 2     │ 2     │ 2     │ 2     │ 2      │ 3     │\n",
       "│ 131 │ 1298416 │ 10    │ 6     │ 6     │ 2     │ 4     │ 10     │ 9     │\n",
       "│ 132 │ 1173347 │ 8     │ 3     │ 3     │ 1     │ 2     │ 2      │ 3     │\n",
       "│ 133 │ 1219859 │ 8     │ 10    │ 8     │ 8     │ 4     │ 8      │ 7     │\n",
       "│ 134 │ 832226  │ 3     │ 4     │ 4     │ 10    │ 5     │ 1      │ 3     │\n",
       "│ 135 │ 704097  │ 1     │ 1     │ 1     │ 1     │ 1     │ 1      │ 2     │\n",
       "│ 136 │ 1067444 │ 2     │ 1     │ 1     │ 1     │ 2     │ 1      │ 2     │\n",
       "│ 137 │ 704097  │ 1     │ 1     │ 1     │ 1     │ 1     │ 1      │ 2     │\n",
       "│ 138 │ 1277018 │ 2     │ 1     │ 1     │ 1     │ 2     │ 1      │ 3     │\n",
       "│ 139 │ 1242364 │ 8     │ 10    │ 10    │ 8     │ 6     │ 9      │ 3     │\n",
       "│ 140 │ 1205579 │ 8     │ 7     │ 6     │ 4     │ 4     │ 10     │ 5     │"
      ]
     },
     "execution_count": 95,
     "metadata": {},
     "output_type": "execute_result"
    }
   ],
   "source": [
    "indecies = MLDataUtils.shuffleobs(collect(1:nrow(biopsy)))\n",
    "train_ind, test_ind = MLDataUtils.splitobs(indecies, at = 0.8);\n",
    "train_dat = biopsy[train_ind, :]\n",
    "test_dat = biopsy[test_ind, :]"
   ]
  },
  {
   "cell_type": "code",
   "execution_count": 96,
   "metadata": {},
   "outputs": [
    {
     "data": {
      "text/plain": [
       "1.0"
      ]
     },
     "execution_count": 96,
     "metadata": {},
     "output_type": "execute_result"
    }
   ],
   "source": [
    "#中位數補值\n",
    "V1_median = median(skipmissing(train_dat[ : , :V1]))\n",
    "V2_median = median(skipmissing(train_dat[ : , :V2]))\n",
    "V3_median = median(skipmissing(train_dat[ : , :V3]))\n",
    "V4_median = median(skipmissing(train_dat[ : , :V4]))\n",
    "V5_median = median(skipmissing(train_dat[ : , :V5]))\n",
    "V6_median = median(skipmissing(train_dat[ : , :V6]))\n",
    "V7_median = median(skipmissing(train_dat[ : , :V7]))\n",
    "V8_median = median(skipmissing(train_dat[ : , :V8]))\n",
    "V9_median = median(skipmissing(train_dat[ : , :V9]))"
   ]
  },
  {
   "cell_type": "code",
   "execution_count": 97,
   "metadata": {},
   "outputs": [
    {
     "data": {
      "text/plain": [
       "140-element Array{Int32,1}:\n",
       "  1\n",
       "  1\n",
       "  1\n",
       " 10\n",
       "  1\n",
       "  1\n",
       " 10\n",
       "  1\n",
       "  1\n",
       "  3\n",
       "  1\n",
       "  1\n",
       "  1\n",
       "  ⋮\n",
       "  1\n",
       "  2\n",
       "  1\n",
       "  1\n",
       "  1\n",
       "  1\n",
       "  1\n",
       "  1\n",
       "  1\n",
       "  1\n",
       " 10\n",
       "  1"
      ]
     },
     "execution_count": 97,
     "metadata": {},
     "output_type": "execute_result"
    }
   ],
   "source": [
    "train_dat.V1=coalesce.(train_dat[ : ,:V1],V1_median)\n",
    "train_dat.V2=coalesce.(train_dat[ : ,:V2],V2_median)\n",
    "train_dat.V3=coalesce.(train_dat[ : ,:V3],V3_median)\n",
    "train_dat.V4=coalesce.(train_dat[ : ,:V4],V4_median)\n",
    "train_dat.V5=coalesce.(train_dat[ : ,:V5],V5_median)\n",
    "train_dat.V6=coalesce.(train_dat[ : ,:V6],V6_median)\n",
    "train_dat.V7=coalesce.(train_dat[ : ,:V7],V7_median)\n",
    "train_dat.V8=coalesce.(train_dat[ : ,:V8],V8_median)\n",
    "train_dat.V9=coalesce.(train_dat[ : ,:V9],V9_median)\n",
    "test_dat.V1=coalesce.(test_dat[ : ,:V1],V1_median)\n",
    "test_dat.V2=coalesce.(test_dat[ : ,:V2],V2_median)\n",
    "test_dat.V3=coalesce.(test_dat[ : ,:V3],V3_median)\n",
    "test_dat.V4=coalesce.(test_dat[ : ,:V4],V4_median)\n",
    "test_dat.V5=coalesce.(test_dat[ : ,:V5],V5_median)\n",
    "test_dat.V6=coalesce.(test_dat[ : ,:V6],V6_median)\n",
    "test_dat.V7=coalesce.(test_dat[ : ,:V7],V7_median)\n",
    "test_dat.V8=coalesce.(test_dat[ : ,:V8],V8_median)\n",
    "test_dat.V9=coalesce.(test_dat[ : ,:V9],V9_median)"
   ]
  },
  {
   "cell_type": "code",
   "execution_count": 98,
   "metadata": {},
   "outputs": [
    {
     "data": {
      "text/plain": [
       "559-element Array{String,1}:\n",
       " \"benign\"   \n",
       " \"benign\"   \n",
       " \"benign\"   \n",
       " \"benign\"   \n",
       " \"benign\"   \n",
       " \"malignant\"\n",
       " \"benign\"   \n",
       " \"malignant\"\n",
       " \"benign\"   \n",
       " \"benign\"   \n",
       " \"benign\"   \n",
       " \"benign\"   \n",
       " \"benign\"   \n",
       " ⋮          \n",
       " \"malignant\"\n",
       " \"malignant\"\n",
       " \"malignant\"\n",
       " \"benign\"   \n",
       " \"benign\"   \n",
       " \"benign\"   \n",
       " \"benign\"   \n",
       " \"malignant\"\n",
       " \"benign\"   \n",
       " \"benign\"   \n",
       " \"benign\"   \n",
       " \"benign\"   "
      ]
     },
     "execution_count": 98,
     "metadata": {},
     "output_type": "execute_result"
    }
   ],
   "source": [
    "features = convert(Matrix,train_dat[:,2:10])\n",
    "labels = string.(train_dat[:,:Class])"
   ]
  },
  {
   "cell_type": "code",
   "execution_count": 99,
   "metadata": {},
   "outputs": [
    {
     "data": {
      "text/plain": [
       "RandomForestClassifier\n",
       "n_trees:             50\n",
       "n_subfeatures:       -1\n",
       "partial_sampling:    0.7\n",
       "max_depth:           2\n",
       "min_samples_leaf:    1\n",
       "min_samples_split:   2\n",
       "min_purity_increase: 0.0\n",
       "classes:             nothing\n",
       "ensemble:            nothing"
      ]
     },
     "execution_count": 99,
     "metadata": {},
     "output_type": "execute_result"
    }
   ],
   "source": [
    "model = DecisionTree.RandomForestClassifier(n_trees=50, max_depth=2)"
   ]
  },
  {
   "cell_type": "code",
   "execution_count": 100,
   "metadata": {},
   "outputs": [
    {
     "data": {
      "text/plain": [
       "RandomForestClassifier\n",
       "n_trees:             50\n",
       "n_subfeatures:       -1\n",
       "partial_sampling:    0.7\n",
       "max_depth:           2\n",
       "min_samples_leaf:    1\n",
       "min_samples_split:   2\n",
       "min_purity_increase: 0.0\n",
       "classes:             [\"benign\", \"malignant\"]\n",
       "ensemble:            Ensemble of Decision Trees\n",
       "Trees:      50\n",
       "Avg Leaves: 3.98\n",
       "Avg Depth:  2.0"
      ]
     },
     "execution_count": 100,
     "metadata": {},
     "output_type": "execute_result"
    }
   ],
   "source": [
    "DecisionTree.fit!(model, features, labels)"
   ]
  },
  {
   "cell_type": "code",
   "execution_count": 101,
   "metadata": {},
   "outputs": [
    {
     "data": {
      "text/plain": [
       "140-element Array{String,1}:\n",
       " \"benign\"   \n",
       " \"benign\"   \n",
       " \"benign\"   \n",
       " \"malignant\"\n",
       " \"benign\"   \n",
       " \"benign\"   \n",
       " \"malignant\"\n",
       " \"benign\"   \n",
       " \"benign\"   \n",
       " \"malignant\"\n",
       " \"malignant\"\n",
       " \"benign\"   \n",
       " \"benign\"   \n",
       " ⋮          \n",
       " \"benign\"   \n",
       " \"benign\"   \n",
       " \"malignant\"\n",
       " \"malignant\"\n",
       " \"malignant\"\n",
       " \"malignant\"\n",
       " \"benign\"   \n",
       " \"benign\"   \n",
       " \"benign\"   \n",
       " \"benign\"   \n",
       " \"malignant\"\n",
       " \"malignant\""
      ]
     },
     "execution_count": 101,
     "metadata": {},
     "output_type": "execute_result"
    }
   ],
   "source": [
    "test_features = convert(Matrix,test_dat[:,2:10])\n",
    "DecisionTree.predict(model, test_features)"
   ]
  },
  {
   "cell_type": "code",
   "execution_count": 102,
   "metadata": {},
   "outputs": [
    {
     "data": {
      "text/plain": [
       "5-element Array{Float64,1}:\n",
       " 0.9553571428571429\n",
       " 0.9821428571428571\n",
       " 0.9732142857142857\n",
       " 0.9821428571428571\n",
       " 0.9459459459459459"
      ]
     },
     "execution_count": 102,
     "metadata": {},
     "output_type": "execute_result"
    }
   ],
   "source": [
    "using ScikitLearn.CrossValidation: cross_val_score\n",
    "accuracy = cross_val_score(model, features, labels, cv=5)"
   ]
  },
  {
   "cell_type": "code",
   "execution_count": null,
   "metadata": {},
   "outputs": [],
   "source": []
  }
 ],
 "metadata": {
  "kernelspec": {
   "display_name": "Julia 1.3.1",
   "language": "julia",
   "name": "julia-1.3"
  },
  "language_info": {
   "file_extension": ".jl",
   "mimetype": "application/julia",
   "name": "julia",
   "version": "1.3.1"
  }
 },
 "nbformat": 4,
 "nbformat_minor": 4
}
